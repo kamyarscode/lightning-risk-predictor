{
 "cells": [
  {
   "cell_type": "code",
   "execution_count": 13,
   "metadata": {},
   "outputs": [
    {
     "data": {
      "text/plain": [
       "b'{\"metadata\":{\"resultset\":{\"offset\":1,\"count\":11,\"limit\":25}},\"results\":[{\"uid\":\"gov.noaa.ncdc:C00861\",\"mindate\":\"1750-02-01\",\"maxdate\":\"2024-07-08\",\"name\":\"Daily Summaries\",\"datacoverage\":1,\"id\":\"GHCND\"},{\"uid\":\"gov.noaa.ncdc:C00946\",\"mindate\":\"1750-02-01\",\"maxdate\":\"2024-07-01\",\"name\":\"Global Summary of the Month\",\"datacoverage\":1,\"id\":\"GSOM\"},{\"uid\":\"gov.noaa.ncdc:C00947\",\"mindate\":\"1763-01-01\",\"maxdate\":\"2024-01-01\",\"name\":\"Global Summary of the Year\",\"datacoverage\":1,\"id\":\"GSOY\"},{\"uid\":\"gov.noaa.ncdc:C00345\",\"mindate\":\"1991-06-05\",\"maxdate\":\"2024-07-09\",\"name\":\"Weather Radar (Level II)\",\"datacoverage\":0.95,\"id\":\"NEXRAD2\"},{\"uid\":\"gov.noaa.ncdc:C00708\",\"mindate\":\"1994-05-20\",\"maxdate\":\"2024-07-06\",\"name\":\"Weather Radar (Level III)\",\"datacoverage\":0.95,\"id\":\"NEXRAD3\"},{\"uid\":\"gov.noaa.ncdc:C00821\",\"mindate\":\"2010-01-01\",\"maxdate\":\"2010-01-01\",\"name\":\"Normals Annual/Seasonal\",\"datacoverage\":1,\"id\":\"NORMAL_ANN\"},{\"uid\":\"gov.noaa.ncdc:C00823\",\"mindate\":\"2010-01-01\",\"maxdate\":\"2010-12-31\",\"name\":\"Normals Daily\",\"datacoverage\":1,\"id\":\"NORMAL_DLY\"},{\"uid\":\"gov.noaa.ncdc:C00824\",\"mindate\":\"2010-01-01\",\"maxdate\":\"2010-12-31\",\"name\":\"Normals Hourly\",\"datacoverage\":1,\"id\":\"NORMAL_HLY\"},{\"uid\":\"gov.noaa.ncdc:C00822\",\"mindate\":\"2010-01-01\",\"maxdate\":\"2010-12-01\",\"name\":\"Normals Monthly\",\"datacoverage\":1,\"id\":\"NORMAL_MLY\"},{\"uid\":\"gov.noaa.ncdc:C00505\",\"mindate\":\"1970-05-12\",\"maxdate\":\"2014-01-01\",\"name\":\"Precipitation 15 Minute\",\"datacoverage\":0.25,\"id\":\"PRECIP_15\"},{\"uid\":\"gov.noaa.ncdc:C00313\",\"mindate\":\"1900-01-01\",\"maxdate\":\"2014-01-01\",\"name\":\"Precipitation Hourly\",\"datacoverage\":1,\"id\":\"PRECIP_HLY\"}]}'"
      ]
     },
     "execution_count": 13,
     "metadata": {},
     "output_type": "execute_result"
    }
   ],
   "source": [
    "import requests\n",
    "from utils import open_parse_json\n",
    "# This cell will attempt to make API calls to NOAA to see if they offer the data we need. \n",
    "\n",
    "params = open_parse_json(\"../params.json\")\n",
    "NOAA_API_TOKEN = params['NOAA_API_TOKEN']\n",
    "header_params = {\n",
    "    \"token\": NOAA_API_TOKEN\n",
    "}\n",
    "datasets_endpoint = \"https://www.ncei.noaa.gov/cdo-web/api/v2/datasets\"\n",
    "noaa_endpoint = \"https://www.ncei.noaa.gov/cdo-web/api/v2/\"\n",
    "response = requests.get(datasets_endpoint, headers=header_params)\n",
    "\n",
    "response.content"
   ]
  },
  {
   "cell_type": "code",
   "execution_count": null,
   "metadata": {},
   "outputs": [],
   "source": []
  }
 ],
 "metadata": {
  "kernelspec": {
   "display_name": "lightning-risk",
   "language": "python",
   "name": "python3"
  },
  "language_info": {
   "codemirror_mode": {
    "name": "ipython",
    "version": 3
   },
   "file_extension": ".py",
   "mimetype": "text/x-python",
   "name": "python",
   "nbconvert_exporter": "python",
   "pygments_lexer": "ipython3",
   "version": "3.11.9"
  }
 },
 "nbformat": 4,
 "nbformat_minor": 2
}
